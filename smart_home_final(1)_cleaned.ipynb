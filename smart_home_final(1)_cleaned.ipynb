{
  "nbformat": 4,
  "nbformat_minor": 0,
  "metadata": {
    "colab": {
      "name": "smart home_final(1)_cleaned.ipynb",
      "provenance": [],
      "collapsed_sections": []
    },
    "kernelspec": {
      "name": "python3",
      "display_name": "Python 3"
    },
    "language_info": {
      "name": "python"
    }
  },
  "cells": [
    {
      "cell_type": "code",
      "metadata": {
        "colab": {
          "base_uri": "https://localhost:8080/"
        },
        "id": "xHCgv9rbB9_-",
        "outputId": "7a0d7e99-ff89-4004-ca7e-4ca7cba562c9"
      },
      "source": [
        "! wget https://md-datasets-cache-zipfiles-prod.s3.eu-west-1.amazonaws.com/t9n68ykfk3-1.zip"
      ],
      "execution_count": 1,
      "outputs": [
        {
          "output_type": "stream",
          "text": [
            "--2021-05-08 02:44:29--  https://md-datasets-cache-zipfiles-prod.s3.eu-west-1.amazonaws.com/t9n68ykfk3-1.zip\n",
            "Resolving md-datasets-cache-zipfiles-prod.s3.eu-west-1.amazonaws.com (md-datasets-cache-zipfiles-prod.s3.eu-west-1.amazonaws.com)... 52.218.30.184\n",
            "Connecting to md-datasets-cache-zipfiles-prod.s3.eu-west-1.amazonaws.com (md-datasets-cache-zipfiles-prod.s3.eu-west-1.amazonaws.com)|52.218.30.184|:443... connected.\n",
            "HTTP request sent, awaiting response... 200 OK\n",
            "Length: 2428268610 (2.3G) [application/octet-stream]\n",
            "Saving to: ‘t9n68ykfk3-1.zip’\n",
            "\n",
            "t9n68ykfk3-1.zip    100%[===================>]   2.26G  29.8MB/s    in 80s     \n",
            "\n",
            "2021-05-08 02:45:50 (28.9 MB/s) - ‘t9n68ykfk3-1.zip’ saved [2428268610/2428268610]\n",
            "\n"
          ],
          "name": "stdout"
        }
      ]
    },
    {
      "cell_type": "code",
      "metadata": {
        "colab": {
          "base_uri": "https://localhost:8080/"
        },
        "id": "kPaWaE3LCF_e",
        "outputId": "229994c6-c42c-4c96-b4fe-39fc12d05702"
      },
      "source": [
        "!unzip dataset.zip"
      ],
      "execution_count": 7,
      "outputs": [
        {
          "output_type": "stream",
          "text": [
            "Archive:  dataset.zip\n",
            "  inflating: human_activity_sensor_data_in_home_environment.zip  \n"
          ],
          "name": "stdout"
        }
      ]
    },
    {
      "cell_type": "code",
      "metadata": {
        "colab": {
          "base_uri": "https://localhost:8080/"
        },
        "id": "QhGAhi8bCxK3",
        "outputId": "b7d22d23-cb01-438d-b5d5-f12e36123350"
      },
      "source": [
        "ls"
      ],
      "execution_count": 1,
      "outputs": [
        {
          "output_type": "stream",
          "text": [
            "dataset.zip\n",
            "\u001b[0m\u001b[01;34mhuman_activity_raw_sensor_data\u001b[0m/\n",
            "human_activity_sensor_data_in_home_environment.zip\n",
            "\u001b[01;34msample_data\u001b[0m/\n"
          ],
          "name": "stdout"
        }
      ]
    },
    {
      "cell_type": "code",
      "metadata": {
        "colab": {
          "base_uri": "https://localhost:8080/"
        },
        "id": "XOuXQbRmDNSe",
        "outputId": "7fe7c237-dfc9-45cc-f4ba-67efe1ce9c30"
      },
      "source": [
        "!unzip human_activity_sensor_data_in_home_environment.zip"
      ],
      "execution_count": 9,
      "outputs": [
        {
          "output_type": "stream",
          "text": [
            "Archive:  human_activity_sensor_data_in_home_environment.zip\n",
            "   creating: human_activity_raw_sensor_data/\n",
            "  inflating: human_activity_raw_sensor_data/sensor_sample_float.csv  \n",
            "  inflating: human_activity_raw_sensor_data/sensor.csv  \n",
            "  inflating: human_activity_raw_sensor_data/sensor_sample_int.csv  \n"
          ],
          "name": "stdout"
        }
      ]
    },
    {
      "cell_type": "code",
      "metadata": {
        "id": "UhA2ss2MC-Qx"
      },
      "source": [
        "import pandas as pd"
      ],
      "execution_count": 1,
      "outputs": []
    },
    {
      "cell_type": "code",
      "metadata": {
        "id": "vlVmzgfhDB-8"
      },
      "source": [
        "sensor = pd.read_csv('/content/human_activity_raw_sensor_data/sensor.csv')"
      ],
      "execution_count": 2,
      "outputs": []
    },
    {
      "cell_type": "code",
      "metadata": {
        "colab": {
          "base_uri": "https://localhost:8080/"
        },
        "id": "e7Hj5BHf7LCD",
        "outputId": "b24f3257-1cdc-42b1-de45-d0196b063614"
      },
      "source": [
        "sensor.shape"
      ],
      "execution_count": 3,
      "outputs": [
        {
          "output_type": "execute_result",
          "data": {
            "text/plain": [
              "(24, 4)"
            ]
          },
          "metadata": {
            "tags": []
          },
          "execution_count": 3
        }
      ]
    },
    {
      "cell_type": "code",
      "metadata": {
        "colab": {
          "base_uri": "https://localhost:8080/",
          "height": 793
        },
        "id": "b1PR1vDKES-w",
        "outputId": "7ab5915a-6ae6-416d-da30-0fc4ec3e3772"
      },
      "source": [
        "sensor"
      ],
      "execution_count": 4,
      "outputs": [
        {
          "output_type": "execute_result",
          "data": {
            "text/html": [
              "<div>\n",
              "<style scoped>\n",
              "    .dataframe tbody tr th:only-of-type {\n",
              "        vertical-align: middle;\n",
              "    }\n",
              "\n",
              "    .dataframe tbody tr th {\n",
              "        vertical-align: top;\n",
              "    }\n",
              "\n",
              "    .dataframe thead th {\n",
              "        text-align: right;\n",
              "    }\n",
              "</style>\n",
              "<table border=\"1\" class=\"dataframe\">\n",
              "  <thead>\n",
              "    <tr style=\"text-align: right;\">\n",
              "      <th></th>\n",
              "      <th>sensor_id</th>\n",
              "      <th>node_id</th>\n",
              "      <th>type</th>\n",
              "      <th>name</th>\n",
              "    </tr>\n",
              "  </thead>\n",
              "  <tbody>\n",
              "    <tr>\n",
              "      <th>0</th>\n",
              "      <td>5894</td>\n",
              "      <td>541150</td>\n",
              "      <td>INT</td>\n",
              "      <td>corridor/ambience/motion</td>\n",
              "    </tr>\n",
              "    <tr>\n",
              "      <th>1</th>\n",
              "      <td>5895</td>\n",
              "      <td>541151</td>\n",
              "      <td>INT</td>\n",
              "      <td>bathroom/ambience/motion</td>\n",
              "    </tr>\n",
              "    <tr>\n",
              "      <th>2</th>\n",
              "      <td>7125</td>\n",
              "      <td>542381</td>\n",
              "      <td>INT</td>\n",
              "      <td>bathroom/ambience/light</td>\n",
              "    </tr>\n",
              "    <tr>\n",
              "      <th>3</th>\n",
              "      <td>5896</td>\n",
              "      <td>541152</td>\n",
              "      <td>INT</td>\n",
              "      <td>bedroom/bed/pressure</td>\n",
              "    </tr>\n",
              "    <tr>\n",
              "      <th>4</th>\n",
              "      <td>6127</td>\n",
              "      <td>541383</td>\n",
              "      <td>INT</td>\n",
              "      <td>livingroom/tv/light</td>\n",
              "    </tr>\n",
              "    <tr>\n",
              "      <th>5</th>\n",
              "      <td>6220</td>\n",
              "      <td>541444</td>\n",
              "      <td>INT</td>\n",
              "      <td>balcon/door/contact</td>\n",
              "    </tr>\n",
              "    <tr>\n",
              "      <th>6</th>\n",
              "      <td>6253</td>\n",
              "      <td>541509</td>\n",
              "      <td>INT</td>\n",
              "      <td>kitchen/fridge/contact</td>\n",
              "    </tr>\n",
              "    <tr>\n",
              "      <th>7</th>\n",
              "      <td>6632</td>\n",
              "      <td>541888</td>\n",
              "      <td>FLOAT</td>\n",
              "      <td>kitchen/coffeemaker/current</td>\n",
              "    </tr>\n",
              "    <tr>\n",
              "      <th>8</th>\n",
              "      <td>6633</td>\n",
              "      <td>541889</td>\n",
              "      <td>FLOAT</td>\n",
              "      <td>kitchen/sandwichmaker/current</td>\n",
              "    </tr>\n",
              "    <tr>\n",
              "      <th>9</th>\n",
              "      <td>6634</td>\n",
              "      <td>541890</td>\n",
              "      <td>FLOAT</td>\n",
              "      <td>kitchen/dishwasher/current</td>\n",
              "    </tr>\n",
              "    <tr>\n",
              "      <th>10</th>\n",
              "      <td>6635</td>\n",
              "      <td>541891</td>\n",
              "      <td>FLOAT</td>\n",
              "      <td>kitchen/kettle/current</td>\n",
              "    </tr>\n",
              "    <tr>\n",
              "      <th>11</th>\n",
              "      <td>6636</td>\n",
              "      <td>541892</td>\n",
              "      <td>FLOAT</td>\n",
              "      <td>bathroom/washingmachine/current</td>\n",
              "    </tr>\n",
              "    <tr>\n",
              "      <th>12</th>\n",
              "      <td>6896</td>\n",
              "      <td>542152</td>\n",
              "      <td>FLOAT</td>\n",
              "      <td>kitchen/microwave/current</td>\n",
              "    </tr>\n",
              "    <tr>\n",
              "      <th>13</th>\n",
              "      <td>6686</td>\n",
              "      <td>541885</td>\n",
              "      <td>INT</td>\n",
              "      <td>bedroom/ambience_under_the_bed/motion</td>\n",
              "    </tr>\n",
              "    <tr>\n",
              "      <th>14</th>\n",
              "      <td>6687</td>\n",
              "      <td>541883</td>\n",
              "      <td>INT</td>\n",
              "      <td>bedroom/weightscale/pressure</td>\n",
              "    </tr>\n",
              "    <tr>\n",
              "      <th>15</th>\n",
              "      <td>7139</td>\n",
              "      <td>542395</td>\n",
              "      <td>FLOAT</td>\n",
              "      <td>corridor/ilifeRobot/current</td>\n",
              "    </tr>\n",
              "    <tr>\n",
              "      <th>16</th>\n",
              "      <td>6222</td>\n",
              "      <td>541141</td>\n",
              "      <td>FLOAT</td>\n",
              "      <td>bathroom/ambience/humidity</td>\n",
              "    </tr>\n",
              "    <tr>\n",
              "      <th>17</th>\n",
              "      <td>6223</td>\n",
              "      <td>541141</td>\n",
              "      <td>FLOAT</td>\n",
              "      <td>bathroom/ambience/temperature</td>\n",
              "    </tr>\n",
              "    <tr>\n",
              "      <th>18</th>\n",
              "      <td>5887</td>\n",
              "      <td>541143</td>\n",
              "      <td>INT</td>\n",
              "      <td>kitchen/stove/light</td>\n",
              "    </tr>\n",
              "    <tr>\n",
              "      <th>19</th>\n",
              "      <td>5888</td>\n",
              "      <td>541144</td>\n",
              "      <td>INT</td>\n",
              "      <td>entrance/door/contact</td>\n",
              "    </tr>\n",
              "    <tr>\n",
              "      <th>20</th>\n",
              "      <td>5889</td>\n",
              "      <td>541145</td>\n",
              "      <td>INT</td>\n",
              "      <td>livingroom/couch/pressure</td>\n",
              "    </tr>\n",
              "    <tr>\n",
              "      <th>21</th>\n",
              "      <td>5891</td>\n",
              "      <td>541147</td>\n",
              "      <td>INT</td>\n",
              "      <td>livingroom/ambience/motion</td>\n",
              "    </tr>\n",
              "    <tr>\n",
              "      <th>22</th>\n",
              "      <td>5892</td>\n",
              "      <td>541148</td>\n",
              "      <td>INT</td>\n",
              "      <td>bedroom/ambience/motion</td>\n",
              "    </tr>\n",
              "    <tr>\n",
              "      <th>23</th>\n",
              "      <td>5893</td>\n",
              "      <td>541149</td>\n",
              "      <td>INT</td>\n",
              "      <td>kitchen/ambience/motion</td>\n",
              "    </tr>\n",
              "  </tbody>\n",
              "</table>\n",
              "</div>"
            ],
            "text/plain": [
              "    sensor_id  node_id   type                                          name\n",
              "0        5894   541150    INT  corridor/ambience/motion                    \n",
              "1        5895   541151    INT  bathroom/ambience/motion                    \n",
              "2        7125   542381    INT  bathroom/ambience/light                     \n",
              "3        5896   541152    INT  bedroom/bed/pressure                        \n",
              "4        6127   541383    INT  livingroom/tv/light                         \n",
              "5        6220   541444    INT  balcon/door/contact                         \n",
              "6        6253   541509    INT  kitchen/fridge/contact                      \n",
              "7        6632   541888  FLOAT    kitchen/coffeemaker/current               \n",
              "8        6633   541889  FLOAT    kitchen/sandwichmaker/current             \n",
              "9        6634   541890  FLOAT    kitchen/dishwasher/current                \n",
              "10       6635   541891  FLOAT    kitchen/kettle/current                    \n",
              "11       6636   541892  FLOAT    bathroom/washingmachine/current           \n",
              "12       6896   542152  FLOAT    kitchen/microwave/current                 \n",
              "13       6686   541885    INT  bedroom/ambience_under_the_bed/motion       \n",
              "14       6687   541883    INT  bedroom/weightscale/pressure                \n",
              "15       7139   542395  FLOAT    corridor/ilifeRobot/current               \n",
              "16       6222   541141  FLOAT    bathroom/ambience/humidity                \n",
              "17       6223   541141  FLOAT    bathroom/ambience/temperature             \n",
              "18       5887   541143    INT  kitchen/stove/light                         \n",
              "19       5888   541144    INT  entrance/door/contact                       \n",
              "20       5889   541145    INT  livingroom/couch/pressure                   \n",
              "21       5891   541147    INT  livingroom/ambience/motion                  \n",
              "22       5892   541148    INT  bedroom/ambience/motion                     \n",
              "23       5893   541149    INT  kitchen/ambience/motion                     "
            ]
          },
          "metadata": {
            "tags": []
          },
          "execution_count": 4
        }
      ]
    },
    {
      "cell_type": "code",
      "metadata": {
        "id": "AZ21a8_HEUVj"
      },
      "source": [
        "sensor_float = pd.read_csv('/content/human_activity_raw_sensor_data/sensor_sample_float.csv')"
      ],
      "execution_count": 5,
      "outputs": []
    },
    {
      "cell_type": "code",
      "metadata": {
        "colab": {
          "base_uri": "https://localhost:8080/"
        },
        "id": "PmPFzPxv9Awp",
        "outputId": "d481824d-f3d5-4319-eaae-bd25cbb1d5d1"
      },
      "source": [
        "sensor_float.shape"
      ],
      "execution_count": 6,
      "outputs": [
        {
          "output_type": "execute_result",
          "data": {
            "text/plain": [
              "(60479847, 4)"
            ]
          },
          "metadata": {
            "tags": []
          },
          "execution_count": 6
        }
      ]
    },
    {
      "cell_type": "code",
      "metadata": {
        "id": "WzYmBXngJimN"
      },
      "source": [
        "sensor_float_small = sensor_float[:1000000]"
      ],
      "execution_count": 94,
      "outputs": []
    },
    {
      "cell_type": "code",
      "metadata": {
        "colab": {
          "base_uri": "https://localhost:8080/",
          "height": 419
        },
        "id": "7_Jc9FQmJmxR",
        "outputId": "1613a71d-242d-4354-9688-c01141c0e2c8"
      },
      "source": [
        "sensor_float_small"
      ],
      "execution_count": 95,
      "outputs": [
        {
          "output_type": "execute_result",
          "data": {
            "text/html": [
              "<div>\n",
              "<style scoped>\n",
              "    .dataframe tbody tr th:only-of-type {\n",
              "        vertical-align: middle;\n",
              "    }\n",
              "\n",
              "    .dataframe tbody tr th {\n",
              "        vertical-align: top;\n",
              "    }\n",
              "\n",
              "    .dataframe thead th {\n",
              "        text-align: right;\n",
              "    }\n",
              "</style>\n",
              "<table border=\"1\" class=\"dataframe\">\n",
              "  <thead>\n",
              "    <tr style=\"text-align: right;\">\n",
              "      <th></th>\n",
              "      <th>value_id</th>\n",
              "      <th>sensor_id</th>\n",
              "      <th>timestamp</th>\n",
              "      <th>value</th>\n",
              "    </tr>\n",
              "  </thead>\n",
              "  <tbody>\n",
              "    <tr>\n",
              "      <th>0</th>\n",
              "      <td>315318</td>\n",
              "      <td>6222</td>\n",
              "      <td>2020-02-26 11:22:3</td>\n",
              "      <td>17.78</td>\n",
              "    </tr>\n",
              "    <tr>\n",
              "      <th>1</th>\n",
              "      <td>315319</td>\n",
              "      <td>6223</td>\n",
              "      <td>2020-02-26 11:22:3</td>\n",
              "      <td>26.51</td>\n",
              "    </tr>\n",
              "    <tr>\n",
              "      <th>2</th>\n",
              "      <td>315320</td>\n",
              "      <td>6223</td>\n",
              "      <td>2020-02-26 19:36:3</td>\n",
              "      <td>27.27</td>\n",
              "    </tr>\n",
              "    <tr>\n",
              "      <th>3</th>\n",
              "      <td>315321</td>\n",
              "      <td>6222</td>\n",
              "      <td>2020-02-26 19:36:3</td>\n",
              "      <td>51.52</td>\n",
              "    </tr>\n",
              "    <tr>\n",
              "      <th>4</th>\n",
              "      <td>315322</td>\n",
              "      <td>6223</td>\n",
              "      <td>2020-02-26 19:36:3</td>\n",
              "      <td>27.26</td>\n",
              "    </tr>\n",
              "    <tr>\n",
              "      <th>...</th>\n",
              "      <td>...</td>\n",
              "      <td>...</td>\n",
              "      <td>...</td>\n",
              "      <td>...</td>\n",
              "    </tr>\n",
              "    <tr>\n",
              "      <th>999995</th>\n",
              "      <td>1583843</td>\n",
              "      <td>6222</td>\n",
              "      <td>2020-03-21 01:15:02.675773</td>\n",
              "      <td>30.17</td>\n",
              "    </tr>\n",
              "    <tr>\n",
              "      <th>999996</th>\n",
              "      <td>1583846</td>\n",
              "      <td>6223</td>\n",
              "      <td>2020-03-21 01:15:03.732410</td>\n",
              "      <td>26.76</td>\n",
              "    </tr>\n",
              "    <tr>\n",
              "      <th>999997</th>\n",
              "      <td>1583847</td>\n",
              "      <td>6222</td>\n",
              "      <td>2020-03-21 01:15:03.804860</td>\n",
              "      <td>30.17</td>\n",
              "    </tr>\n",
              "    <tr>\n",
              "      <th>999998</th>\n",
              "      <td>1583849</td>\n",
              "      <td>6223</td>\n",
              "      <td>2020-03-21 01:15:04.847125</td>\n",
              "      <td>26.76</td>\n",
              "    </tr>\n",
              "    <tr>\n",
              "      <th>999999</th>\n",
              "      <td>1583851</td>\n",
              "      <td>6222</td>\n",
              "      <td>2020-03-21 01:15:04.924986</td>\n",
              "      <td>30.17</td>\n",
              "    </tr>\n",
              "  </tbody>\n",
              "</table>\n",
              "<p>1000000 rows × 4 columns</p>\n",
              "</div>"
            ],
            "text/plain": [
              "        value_id  sensor_id                   timestamp  value\n",
              "0         315318       6222          2020-02-26 11:22:3  17.78\n",
              "1         315319       6223          2020-02-26 11:22:3  26.51\n",
              "2         315320       6223          2020-02-26 19:36:3  27.27\n",
              "3         315321       6222          2020-02-26 19:36:3  51.52\n",
              "4         315322       6223          2020-02-26 19:36:3  27.26\n",
              "...          ...        ...                         ...    ...\n",
              "999995   1583843       6222  2020-03-21 01:15:02.675773  30.17\n",
              "999996   1583846       6223  2020-03-21 01:15:03.732410  26.76\n",
              "999997   1583847       6222  2020-03-21 01:15:03.804860  30.17\n",
              "999998   1583849       6223  2020-03-21 01:15:04.847125  26.76\n",
              "999999   1583851       6222  2020-03-21 01:15:04.924986  30.17\n",
              "\n",
              "[1000000 rows x 4 columns]"
            ]
          },
          "metadata": {
            "tags": []
          },
          "execution_count": 95
        }
      ]
    },
    {
      "cell_type": "code",
      "metadata": {
        "colab": {
          "base_uri": "https://localhost:8080/"
        },
        "id": "OTRkfx_B6Wf1",
        "outputId": "7299b70b-5cfc-4e62-8b0f-cbc6cf6ff8fe"
      },
      "source": [
        "sensor_float_small['timestamp'] = sensor_float_small['timestamp'].apply(lambda x:  x[:-8])"
      ],
      "execution_count": 9,
      "outputs": [
        {
          "output_type": "stream",
          "text": [
            "/usr/local/lib/python3.7/dist-packages/ipykernel_launcher.py:1: SettingWithCopyWarning: \n",
            "A value is trying to be set on a copy of a slice from a DataFrame.\n",
            "Try using .loc[row_indexer,col_indexer] = value instead\n",
            "\n",
            "See the caveats in the documentation: https://pandas.pydata.org/pandas-docs/stable/user_guide/indexing.html#returning-a-view-versus-a-copy\n",
            "  \"\"\"Entry point for launching an IPython kernel.\n"
          ],
          "name": "stderr"
        }
      ]
    },
    {
      "cell_type": "code",
      "metadata": {
        "colab": {
          "base_uri": "https://localhost:8080/",
          "height": 204
        },
        "id": "Dd4M1jTM6va7",
        "outputId": "96654d90-d278-4984-ca8e-18711084a56f"
      },
      "source": [
        "sensor_float_small.head()"
      ],
      "execution_count": 96,
      "outputs": [
        {
          "output_type": "execute_result",
          "data": {
            "text/html": [
              "<div>\n",
              "<style scoped>\n",
              "    .dataframe tbody tr th:only-of-type {\n",
              "        vertical-align: middle;\n",
              "    }\n",
              "\n",
              "    .dataframe tbody tr th {\n",
              "        vertical-align: top;\n",
              "    }\n",
              "\n",
              "    .dataframe thead th {\n",
              "        text-align: right;\n",
              "    }\n",
              "</style>\n",
              "<table border=\"1\" class=\"dataframe\">\n",
              "  <thead>\n",
              "    <tr style=\"text-align: right;\">\n",
              "      <th></th>\n",
              "      <th>value_id</th>\n",
              "      <th>sensor_id</th>\n",
              "      <th>timestamp</th>\n",
              "      <th>value</th>\n",
              "    </tr>\n",
              "  </thead>\n",
              "  <tbody>\n",
              "    <tr>\n",
              "      <th>0</th>\n",
              "      <td>315318</td>\n",
              "      <td>6222</td>\n",
              "      <td>2020-02-26 11:22:3</td>\n",
              "      <td>17.78</td>\n",
              "    </tr>\n",
              "    <tr>\n",
              "      <th>1</th>\n",
              "      <td>315319</td>\n",
              "      <td>6223</td>\n",
              "      <td>2020-02-26 11:22:3</td>\n",
              "      <td>26.51</td>\n",
              "    </tr>\n",
              "    <tr>\n",
              "      <th>2</th>\n",
              "      <td>315320</td>\n",
              "      <td>6223</td>\n",
              "      <td>2020-02-26 19:36:3</td>\n",
              "      <td>27.27</td>\n",
              "    </tr>\n",
              "    <tr>\n",
              "      <th>3</th>\n",
              "      <td>315321</td>\n",
              "      <td>6222</td>\n",
              "      <td>2020-02-26 19:36:3</td>\n",
              "      <td>51.52</td>\n",
              "    </tr>\n",
              "    <tr>\n",
              "      <th>4</th>\n",
              "      <td>315322</td>\n",
              "      <td>6223</td>\n",
              "      <td>2020-02-26 19:36:3</td>\n",
              "      <td>27.26</td>\n",
              "    </tr>\n",
              "  </tbody>\n",
              "</table>\n",
              "</div>"
            ],
            "text/plain": [
              "   value_id  sensor_id           timestamp  value\n",
              "0    315318       6222  2020-02-26 11:22:3  17.78\n",
              "1    315319       6223  2020-02-26 11:22:3  26.51\n",
              "2    315320       6223  2020-02-26 19:36:3  27.27\n",
              "3    315321       6222  2020-02-26 19:36:3  51.52\n",
              "4    315322       6223  2020-02-26 19:36:3  27.26"
            ]
          },
          "metadata": {
            "tags": []
          },
          "execution_count": 96
        }
      ]
    },
    {
      "cell_type": "code",
      "metadata": {
        "id": "QEPFkJMHEjNc"
      },
      "source": [
        "x= {}\n",
        "y = []\n",
        "\n",
        "for i in range(len(sensor_float_small)):\n",
        "    data = sensor_float_small.iloc[i]\n",
        "    # print(data)\n",
        "    # print(data['timestamp'])\n",
        "    if data['timestamp'] not in x:\n",
        "        x[data['timestamp']] = []\n",
        "    x[data['timestamp']].append(data['value'])\n",
        "\n"
      ],
      "execution_count": 97,
      "outputs": []
    },
    {
      "cell_type": "code",
      "metadata": {
        "id": "an-7NuF87rBM"
      },
      "source": [
        "x"
      ],
      "execution_count": null,
      "outputs": []
    },
    {
      "cell_type": "code",
      "metadata": {
        "colab": {
          "base_uri": "https://localhost:8080/"
        },
        "id": "dc-5OiHa87p6",
        "outputId": "cf9e4d99-e73d-4a6c-8eb5-2d27393e061f"
      },
      "source": [
        "len(x)"
      ],
      "execution_count": 98,
      "outputs": [
        {
          "output_type": "execute_result",
          "data": {
            "text/plain": [
              "908151"
            ]
          },
          "metadata": {
            "tags": []
          },
          "execution_count": 98
        }
      ]
    },
    {
      "cell_type": "code",
      "metadata": {
        "id": "s0geM8-587lu"
      },
      "source": [
        "x1 = []\n",
        "# low = 100000\n",
        "total = []\n",
        "for k in x:\n",
        "    if len(x[k])>=8:\n",
        "        x[k].sort()\n",
        "        x1.append(x[k][:8])\n",
        "        total.append(sum(x[k][:8]))"
      ],
      "execution_count": 90,
      "outputs": []
    },
    {
      "cell_type": "code",
      "metadata": {
        "id": "iW59BPijCqYb"
      },
      "source": [
        "x1"
      ],
      "execution_count": null,
      "outputs": []
    },
    {
      "cell_type": "code",
      "metadata": {
        "id": "lqRuQEXMHyvc",
        "colab": {
          "base_uri": "https://localhost:8080/"
        },
        "outputId": "ced0d200-8657-4286-f996-8f542de6bb35"
      },
      "source": [
        "len(x1)"
      ],
      "execution_count": 110,
      "outputs": [
        {
          "output_type": "execute_result",
          "data": {
            "text/plain": [
              "5936"
            ]
          },
          "metadata": {
            "tags": []
          },
          "execution_count": 110
        }
      ]
    },
    {
      "cell_type": "code",
      "metadata": {
        "colab": {
          "base_uri": "https://localhost:8080/"
        },
        "id": "5YBokY6T9sxj",
        "outputId": "1d208532-0c31-4efe-ae4a-37b3b9e828e0"
      },
      "source": [
        "len(total)"
      ],
      "execution_count": 101,
      "outputs": [
        {
          "output_type": "execute_result",
          "data": {
            "text/plain": [
              "7420"
            ]
          },
          "metadata": {
            "tags": []
          },
          "execution_count": 101
        }
      ]
    },
    {
      "cell_type": "code",
      "metadata": {
        "colab": {
          "base_uri": "https://localhost:8080/",
          "height": 350
        },
        "id": "jt2g_IZt-yj-",
        "outputId": "5204568f-5ab6-40cf-facd-b517201c8c00"
      },
      "source": [
        "import matplotlib.pyplot as plt\n",
        "plt.hist(total, bins=10)"
      ],
      "execution_count": 102,
      "outputs": [
        {
          "output_type": "execute_result",
          "data": {
            "text/plain": [
              "(array([1.081e+03, 2.787e+03, 2.326e+03, 7.040e+02, 3.530e+02, 1.040e+02,\n",
              "        3.900e+01, 1.800e+01, 6.000e+00, 2.000e+00]),\n",
              " array([131.02 , 149.409, 167.798, 186.187, 204.576, 222.965, 241.354,\n",
              "        259.743, 278.132, 296.521, 314.91 ]),\n",
              " <a list of 10 Patch objects>)"
            ]
          },
          "metadata": {
            "tags": []
          },
          "execution_count": 102
        },
        {
          "output_type": "display_data",
          "data": {
            "image/png": "[encoded data removed]",
            "text/plain": [
              "<Figure size 432x288 with 1 Axes>"
            ]
          },
          "metadata": {
            "tags": [],
            "needs_background": "light"
          }
        }
      ]
    },
    {
      "cell_type": "code",
      "metadata": {
        "id": "kzYBY8gO_Zi6"
      },
      "source": [
        "limit = 241"
      ],
      "execution_count": 103,
      "outputs": []
    },
    {
      "cell_type": "code",
      "metadata": {
        "id": "DJhM-w4kBAZY"
      },
      "source": [
        "y = [int(t>limit) for t in total]"
      ],
      "execution_count": 104,
      "outputs": []
    },
    {
      "cell_type": "code",
      "metadata": {
        "colab": {
          "base_uri": "https://localhost:8080/"
        },
        "id": "V4hollFzBHYl",
        "outputId": "1f8b8c3a-4bd4-4e64-dd87-7dde7a703b4e"
      },
      "source": [
        "sum(y)"
      ],
      "execution_count": 105,
      "outputs": [
        {
          "output_type": "execute_result",
          "data": {
            "text/plain": [
              "69"
            ]
          },
          "metadata": {
            "tags": []
          },
          "execution_count": 105
        }
      ]
    },
    {
      "cell_type": "code",
      "metadata": {
        "colab": {
          "base_uri": "https://localhost:8080/"
        },
        "id": "j4AD7bjrBND_",
        "outputId": "c624edc3-e629-47fb-85e9-24061bffa1b1"
      },
      "source": [
        "len(y)"
      ],
      "execution_count": 111,
      "outputs": [
        {
          "output_type": "execute_result",
          "data": {
            "text/plain": [
              "5936"
            ]
          },
          "metadata": {
            "tags": []
          },
          "execution_count": 111
        }
      ]
    },
    {
      "cell_type": "code",
      "metadata": {
        "id": "w6rdI-xbMkCU"
      },
      "source": [
        "x_test = x1[int(7420*0.8):]\n",
        "y_test = y[int(7420*0.8):]\n",
        "\n",
        "x1 = x1[:int(7420*0.8)]\n",
        "y = y[:int(7420*0.8)]"
      ],
      "execution_count": 109,
      "outputs": []
    },
    {
      "cell_type": "markdown",
      "metadata": {
        "id": "ZQmd44PtDc38"
      },
      "source": [
        "##Model 1"
      ]
    },
    {
      "cell_type": "code",
      "metadata": {
        "id": "M4Bo6gEhBQ2o"
      },
      "source": [
        "from tensorflow.keras import Sequential\n",
        "from tensorflow.keras.layers import Dense\n",
        "# define the model\n",
        "model = Sequential()\n",
        "model.add(Dense(10, input_shape=(8,)))\n",
        "model.add(Dense(1))\n",
        "\n",
        "model.compile(optimizer='sgd', loss='binary_crossentropy', metrics=['accuracy'])"
      ],
      "execution_count": 69,
      "outputs": []
    },
    {
      "cell_type": "code",
      "metadata": {
        "colab": {
          "base_uri": "https://localhost:8080/"
        },
        "id": "j6ZLkBqGCbc3",
        "outputId": "f82b4efa-cfe1-42fe-864c-93ec93bd30f2"
      },
      "source": [
        "history = model.fit(x1, y, epochs=25)"
      ],
      "execution_count": 71,
      "outputs": [
        {
          "output_type": "stream",
          "text": [
            "Epoch 1/25\n",
            "232/232 [==============================] - 1s 1ms/step - loss: 0.1344 - accuracy: 0.9913\n",
            "Epoch 2/25\n",
            "232/232 [==============================] - 0s 1ms/step - loss: 0.1211 - accuracy: 0.9922\n",
            "Epoch 3/25\n",
            "232/232 [==============================] - 0s 1ms/step - loss: 0.1278 - accuracy: 0.9917\n",
            "Epoch 4/25\n",
            "232/232 [==============================] - 0s 1ms/step - loss: 0.1532 - accuracy: 0.9901\n",
            "Epoch 5/25\n",
            "232/232 [==============================] - 0s 1ms/step - loss: 0.1293 - accuracy: 0.9916\n",
            "Epoch 6/25\n",
            "232/232 [==============================] - 0s 1ms/step - loss: 0.1449 - accuracy: 0.9906\n",
            "Epoch 7/25\n",
            "232/232 [==============================] - 0s 1ms/step - loss: 0.1291 - accuracy: 0.9916\n",
            "Epoch 8/25\n",
            "232/232 [==============================] - 0s 1ms/step - loss: 0.1534 - accuracy: 0.9901\n",
            "Epoch 9/25\n",
            "232/232 [==============================] - 0s 1ms/step - loss: 0.1247 - accuracy: 0.9919\n",
            "Epoch 10/25\n",
            "232/232 [==============================] - 0s 1ms/step - loss: 0.1394 - accuracy: 0.9910\n",
            "Epoch 11/25\n",
            "232/232 [==============================] - 0s 1ms/step - loss: 0.1247 - accuracy: 0.9919\n",
            "Epoch 12/25\n",
            "232/232 [==============================] - 0s 1ms/step - loss: 0.1576 - accuracy: 0.9898\n",
            "Epoch 13/25\n",
            "232/232 [==============================] - 0s 1ms/step - loss: 0.1572 - accuracy: 0.9898\n",
            "Epoch 14/25\n",
            "232/232 [==============================] - 0s 1ms/step - loss: 0.1251 - accuracy: 0.9919\n",
            "Epoch 15/25\n",
            "232/232 [==============================] - 0s 1ms/step - loss: 0.1546 - accuracy: 0.9900\n",
            "Epoch 16/25\n",
            "232/232 [==============================] - 0s 1ms/step - loss: 0.1248 - accuracy: 0.9919\n",
            "Epoch 17/25\n",
            "232/232 [==============================] - 0s 1ms/step - loss: 0.1336 - accuracy: 0.9913\n",
            "Epoch 18/25\n",
            "232/232 [==============================] - 0s 1ms/step - loss: 0.1235 - accuracy: 0.9920\n",
            "Epoch 19/25\n",
            "232/232 [==============================] - 0s 1ms/step - loss: 0.1215 - accuracy: 0.9921\n",
            "Epoch 20/25\n",
            "232/232 [==============================] - 0s 1ms/step - loss: 0.1264 - accuracy: 0.9918\n",
            "Epoch 21/25\n",
            "232/232 [==============================] - 0s 1ms/step - loss: 0.1346 - accuracy: 0.9913\n",
            "Epoch 22/25\n",
            "232/232 [==============================] - 0s 1ms/step - loss: 0.1531 - accuracy: 0.9901\n",
            "Epoch 23/25\n",
            "232/232 [==============================] - 0s 1ms/step - loss: 0.1422 - accuracy: 0.9908\n",
            "Epoch 24/25\n",
            "232/232 [==============================] - 0s 1ms/step - loss: 0.1388 - accuracy: 0.9910\n",
            "Epoch 25/25\n",
            "232/232 [==============================] - 0s 1ms/step - loss: 0.1485 - accuracy: 0.9904\n"
          ],
          "name": "stdout"
        }
      ]
    },
    {
      "cell_type": "markdown",
      "metadata": {
        "id": "yVvJDHlADnZh"
      },
      "source": [
        "##Model 2"
      ]
    },
    {
      "cell_type": "code",
      "metadata": {
        "colab": {
          "base_uri": "https://localhost:8080/"
        },
        "id": "BEXxw53hCjim",
        "outputId": "86ed7a9e-ff36-4e34-8a5a-cea409932e60"
      },
      "source": [
        "from tensorflow.keras import Sequential\n",
        "from tensorflow.keras.layers import Dense\n",
        "# define the model\n",
        "model = Sequential()\n",
        "model.add(Dense(10, activation='relu', input_shape=(8,)))\n",
        "model.add(Dense(1, activation = 'sigmoid'))\n",
        "\n",
        "model.compile(optimizer='sgd', loss='binary_crossentropy', metrics=['accuracy'])\n",
        "\n",
        "history = model.fit(x1, y, epochs=25)"
      ],
      "execution_count": 128,
      "outputs": [
        {
          "output_type": "stream",
          "text": [
            "Epoch 1/25\n",
            "186/186 [==============================] - 1s 1ms/step - loss: 0.0171 - accuracy: 0.9988\n",
            "Epoch 2/25\n",
            "186/186 [==============================] - 0s 1ms/step - loss: 0.0122 - accuracy: 0.9991\n",
            "Epoch 3/25\n",
            "186/186 [==============================] - 0s 1ms/step - loss: 0.0063 - accuracy: 0.9996\n",
            "Epoch 4/25\n",
            "186/186 [==============================] - 0s 1ms/step - loss: 0.0068 - accuracy: 0.9996\n",
            "Epoch 5/25\n",
            "186/186 [==============================] - 0s 1ms/step - loss: 0.0133 - accuracy: 0.9989\n",
            "Epoch 6/25\n",
            "186/186 [==============================] - 0s 1ms/step - loss: 0.0188 - accuracy: 0.9985\n",
            "Epoch 7/25\n",
            "186/186 [==============================] - 0s 1ms/step - loss: 0.0117 - accuracy: 0.9991\n",
            "Epoch 8/25\n",
            "186/186 [==============================] - 0s 1ms/step - loss: 0.0193 - accuracy: 0.9983\n",
            "Epoch 9/25\n",
            "186/186 [==============================] - 0s 1ms/step - loss: 0.0078 - accuracy: 0.9994\n",
            "Epoch 10/25\n",
            "186/186 [==============================] - 0s 1ms/step - loss: 0.0139 - accuracy: 0.9989\n",
            "Epoch 11/25\n",
            "186/186 [==============================] - 0s 1ms/step - loss: 0.0155 - accuracy: 0.9988\n",
            "Epoch 12/25\n",
            "186/186 [==============================] - 0s 1ms/step - loss: 0.0146 - accuracy: 0.9987\n",
            "Epoch 13/25\n",
            "186/186 [==============================] - 0s 1ms/step - loss: 0.0193 - accuracy: 0.9983\n",
            "Epoch 14/25\n",
            "186/186 [==============================] - 0s 1ms/step - loss: 0.0090 - accuracy: 0.9993\n",
            "Epoch 15/25\n",
            "186/186 [==============================] - 0s 1ms/step - loss: 0.0135 - accuracy: 0.9989\n",
            "Epoch 16/25\n",
            "186/186 [==============================] - 0s 1ms/step - loss: 0.0111 - accuracy: 0.9991\n",
            "Epoch 17/25\n",
            "186/186 [==============================] - 0s 1ms/step - loss: 0.0142 - accuracy: 0.9988\n",
            "Epoch 18/25\n",
            "186/186 [==============================] - 0s 1ms/step - loss: 0.0113 - accuracy: 0.9990\n",
            "Epoch 19/25\n",
            "186/186 [==============================] - 0s 1ms/step - loss: 0.0113 - accuracy: 0.9990\n",
            "Epoch 20/25\n",
            "186/186 [==============================] - 0s 1ms/step - loss: 0.0163 - accuracy: 0.9986\n",
            "Epoch 21/25\n",
            "186/186 [==============================] - 0s 1ms/step - loss: 0.0133 - accuracy: 0.9988\n",
            "Epoch 22/25\n",
            "186/186 [==============================] - 0s 1ms/step - loss: 0.0134 - accuracy: 0.9988\n",
            "Epoch 23/25\n",
            "186/186 [==============================] - 0s 1ms/step - loss: 0.0092 - accuracy: 0.9992\n",
            "Epoch 24/25\n",
            "186/186 [==============================] - 0s 1ms/step - loss: 0.0143 - accuracy: 0.9988\n",
            "Epoch 25/25\n",
            "186/186 [==============================] - 0s 1ms/step - loss: 0.0082 - accuracy: 0.9993\n"
          ],
          "name": "stdout"
        }
      ]
    },
    {
      "cell_type": "code",
      "metadata": {
        "colab": {
          "base_uri": "https://localhost:8080/",
          "height": 295
        },
        "id": "feNCXTTODvrA",
        "outputId": "ab505aa9-e20b-4546-ef1f-d5407926bcd1"
      },
      "source": [
        "from matplotlib import pyplot\n",
        "\n",
        "pyplot.title('Learning Curves')\n",
        "pyplot.xlabel('Epoch')\n",
        "pyplot.ylabel('Cross Entropy')\n",
        "pyplot.plot(history.history['loss'], label='train')\n",
        "# pyplot.plot(history.history['val_loss'], label='val')\n",
        "pyplot.legend()\n",
        "pyplot.show()"
      ],
      "execution_count": 129,
      "outputs": [
        {
          "output_type": "display_data",
          "data": {
            "image/png": "[encoded data removed]",
            "text/plain": [
              "<Figure size 432x288 with 1 Axes>"
            ]
          },
          "metadata": {
            "tags": [],
            "needs_background": "light"
          }
        }
      ]
    },
    {
      "cell_type": "code",
      "metadata": {
        "colab": {
          "base_uri": "https://localhost:8080/"
        },
        "id": "1QX251kROPkm",
        "outputId": "fa2d2556-a9fa-47bc-a830-8667d26dc070"
      },
      "source": [
        "pred = model.predict_classes(x_test)\n",
        "\n",
        "from sklearn.metrics import confusion_matrix\n",
        "confusion_matrix(y_test, pred)"
      ],
      "execution_count": 131,
      "outputs": [
        {
          "output_type": "stream",
          "text": [
            "/usr/local/lib/python3.7/dist-packages/tensorflow/python/keras/engine/sequential.py:450: UserWarning: `model.predict_classes()` is deprecated and will be removed after 2021-01-01. Please use instead:* `np.argmax(model.predict(x), axis=-1)`,   if your model does multi-class classification   (e.g. if it uses a `softmax` last-layer activation).* `(model.predict(x) > 0.5).astype(\"int32\")`,   if your model does binary classification   (e.g. if it uses a `sigmoid` last-layer activation).\n",
            "  warnings.warn('`model.predict_classes()` is deprecated and '\n"
          ],
          "name": "stderr"
        },
        {
          "output_type": "execute_result",
          "data": {
            "text/plain": [
              "array([[1421,    0],\n",
              "       [  63,    0]])"
            ]
          },
          "metadata": {
            "tags": []
          },
          "execution_count": 131
        }
      ]
    },
    {
      "cell_type": "code",
      "metadata": {
        "colab": {
          "base_uri": "https://localhost:8080/"
        },
        "id": "AbKDKK8WOPg_",
        "outputId": "f6d5e8d7-9114-4788-80d4-fb0b1aeddba1"
      },
      "source": [
        "accuracy = sum([y_test[i]==pred[i] for i in range(len(pred))])/len(pred)\n",
        "accuracy"
      ],
      "execution_count": 132,
      "outputs": [
        {
          "output_type": "execute_result",
          "data": {
            "text/plain": [
              "array([0.95754717])"
            ]
          },
          "metadata": {
            "tags": []
          },
          "execution_count": 132
        }
      ]
    },
    {
      "cell_type": "markdown",
      "metadata": {
        "id": "RMrGp9aCEA2d"
      },
      "source": [
        "##Model 3"
      ]
    },
    {
      "cell_type": "code",
      "metadata": {
        "colab": {
          "base_uri": "https://localhost:8080/"
        },
        "id": "gVQcFXpTECpc",
        "outputId": "156f47f5-cc7b-4e16-cf24-dc2f359eaf57"
      },
      "source": [
        "from tensorflow.keras import Sequential\n",
        "from tensorflow.keras.layers import Dense\n",
        "# define the model\n",
        "model = Sequential()\n",
        "model.add(Dense(10, activation='relu', input_shape=(8,)))\n",
        "model.add(Dense(5, activation='relu'))\n",
        "model.add(Dense(1, activation = 'sigmoid'))\n",
        "\n",
        "model.compile(optimizer='sgd', loss='binary_crossentropy', metrics=['accuracy'])\n",
        "\n",
        "history = model.fit(x1, y, epochs=25)"
      ],
      "execution_count": 122,
      "outputs": [
        {
          "output_type": "stream",
          "text": [
            "Epoch 1/25\n",
            "186/186 [==============================] - 1s 1ms/step - loss: 0.0386 - accuracy: 0.9988\n",
            "Epoch 2/25\n",
            "186/186 [==============================] - 0s 1ms/step - loss: 0.0074 - accuracy: 0.9995\n",
            "Epoch 3/25\n",
            "186/186 [==============================] - 0s 1ms/step - loss: 0.0146 - accuracy: 0.9988\n",
            "Epoch 4/25\n",
            "186/186 [==============================] - 0s 1ms/step - loss: 0.0285 - accuracy: 0.9980\n",
            "Epoch 5/25\n",
            "186/186 [==============================] - 0s 1ms/step - loss: 0.0130 - accuracy: 0.9990\n",
            "Epoch 6/25\n",
            "186/186 [==============================] - 0s 1ms/step - loss: 0.0202 - accuracy: 0.9984\n",
            "Epoch 7/25\n",
            "186/186 [==============================] - 0s 1ms/step - loss: 0.0097 - accuracy: 0.9993\n",
            "Epoch 8/25\n",
            "186/186 [==============================] - 0s 1ms/step - loss: 0.0146 - accuracy: 0.9990\n",
            "Epoch 9/25\n",
            "186/186 [==============================] - 0s 1ms/step - loss: 0.0038 - accuracy: 0.9997\n",
            "Epoch 10/25\n",
            "186/186 [==============================] - 0s 1ms/step - loss: 0.0128 - accuracy: 0.9992\n",
            "Epoch 11/25\n",
            "186/186 [==============================] - 0s 1ms/step - loss: 0.0103 - accuracy: 0.9993\n",
            "Epoch 12/25\n",
            "186/186 [==============================] - 0s 1ms/step - loss: 0.0101 - accuracy: 0.9993\n",
            "Epoch 13/25\n",
            "186/186 [==============================] - 0s 1ms/step - loss: 0.0090 - accuracy: 0.9994\n",
            "Epoch 14/25\n",
            "186/186 [==============================] - 0s 1ms/step - loss: 0.0175 - accuracy: 0.9986\n",
            "Epoch 15/25\n",
            "186/186 [==============================] - 0s 1ms/step - loss: 0.0145 - accuracy: 0.9988\n",
            "Epoch 16/25\n",
            "186/186 [==============================] - 0s 1ms/step - loss: 0.0199 - accuracy: 0.9984\n",
            "Epoch 17/25\n",
            "186/186 [==============================] - 0s 1ms/step - loss: 0.0154 - accuracy: 0.9988\n",
            "Epoch 18/25\n",
            "186/186 [==============================] - 0s 1ms/step - loss: 0.0101 - accuracy: 0.9992\n",
            "Epoch 19/25\n",
            "186/186 [==============================] - 0s 1ms/step - loss: 0.0163 - accuracy: 0.9987\n",
            "Epoch 20/25\n",
            "186/186 [==============================] - 0s 1ms/step - loss: 0.0094 - accuracy: 0.9993\n",
            "Epoch 21/25\n",
            "186/186 [==============================] - 0s 1ms/step - loss: 0.0184 - accuracy: 0.9985\n",
            "Epoch 22/25\n",
            "186/186 [==============================] - 0s 1ms/step - loss: 0.0171 - accuracy: 0.9986\n",
            "Epoch 23/25\n",
            "186/186 [==============================] - 0s 1ms/step - loss: 0.0161 - accuracy: 0.9987\n",
            "Epoch 24/25\n",
            "186/186 [==============================] - 0s 1ms/step - loss: 0.0169 - accuracy: 0.9986\n",
            "Epoch 25/25\n",
            "186/186 [==============================] - 0s 1ms/step - loss: 0.0095 - accuracy: 0.9993\n"
          ],
          "name": "stdout"
        }
      ]
    },
    {
      "cell_type": "code",
      "metadata": {
        "colab": {
          "base_uri": "https://localhost:8080/",
          "height": 295
        },
        "id": "acQMEwgQN97P",
        "outputId": "0e3b0d98-e830-45d0-d61d-02f0721b5b9c"
      },
      "source": [
        "from matplotlib import pyplot\n",
        "\n",
        "pyplot.title('Learning Curves')\n",
        "pyplot.xlabel('Epoch')\n",
        "pyplot.ylabel('Cross Entropy')\n",
        "pyplot.plot(history.history['loss'], label='train')\n",
        "# pyplot.plot(history.history['val_loss'], label='val')\n",
        "pyplot.legend()\n",
        "pyplot.show()"
      ],
      "execution_count": 123,
      "outputs": [
        {
          "output_type": "display_data",
          "data": {
            "image/png": "[encoded data removed]",
            "text/plain": [
              "<Figure size 432x288 with 1 Axes>"
            ]
          },
          "metadata": {
            "tags": [],
            "needs_background": "light"
          }
        }
      ]
    },
    {
      "cell_type": "code",
      "metadata": {
        "colab": {
          "base_uri": "https://localhost:8080/"
        },
        "id": "YolsIBGROE6c",
        "outputId": "19013766-0b06-4fa4-e670-491ccce373c5"
      },
      "source": [
        "pred = model.predict_classes(x_test)\n",
        "\n",
        "from sklearn.metrics import confusion_matrix\n",
        "confusion_matrix(y_test, pred)"
      ],
      "execution_count": 125,
      "outputs": [
        {
          "output_type": "stream",
          "text": [
            "/usr/local/lib/python3.7/dist-packages/tensorflow/python/keras/engine/sequential.py:450: UserWarning: `model.predict_classes()` is deprecated and will be removed after 2021-01-01. Please use instead:* `np.argmax(model.predict(x), axis=-1)`,   if your model does multi-class classification   (e.g. if it uses a `softmax` last-layer activation).* `(model.predict(x) > 0.5).astype(\"int32\")`,   if your model does binary classification   (e.g. if it uses a `sigmoid` last-layer activation).\n",
            "  warnings.warn('`model.predict_classes()` is deprecated and '\n"
          ],
          "name": "stderr"
        },
        {
          "output_type": "execute_result",
          "data": {
            "text/plain": [
              "array([[1421,    0],\n",
              "       [  63,    0]])"
            ]
          },
          "metadata": {
            "tags": []
          },
          "execution_count": 125
        }
      ]
    },
    {
      "cell_type": "code",
      "metadata": {
        "colab": {
          "base_uri": "https://localhost:8080/"
        },
        "id": "Ax_nLXkJOH_r",
        "outputId": "940c48b2-5555-437e-f540-abe19236e3d3"
      },
      "source": [
        "accuracy = sum([y_test[i]==pred[i] for i in range(len(pred))])/len(pred)\n",
        "accuracy"
      ],
      "execution_count": 127,
      "outputs": [
        {
          "output_type": "execute_result",
          "data": {
            "text/plain": [
              "array([0.95754717])"
            ]
          },
          "metadata": {
            "tags": []
          },
          "execution_count": 127
        }
      ]
    },
    {
      "cell_type": "markdown",
      "metadata": {
        "id": "CT1o-s5-Jeg3"
      },
      "source": [
        "##Model 4 - class weights"
      ]
    },
    {
      "cell_type": "code",
      "metadata": {
        "colab": {
          "base_uri": "https://localhost:8080/"
        },
        "id": "KTTy5SS6EI99",
        "outputId": "ddc33f85-41d3-4ed7-cbce-bd12e0d18997"
      },
      "source": [
        "# define the model\n",
        "model = Sequential()\n",
        "model.add(Dense(10, activation='relu', input_shape=(8,)))\n",
        "# model.add(Dense())\n",
        "model.add(Dense(1, activation = 'sigmoid'))\n",
        "\n",
        "model.compile(optimizer='sgd', loss='binary_crossentropy', metrics=['accuracy'])\n",
        "\n",
        "class_weights = {0:1, 1:5}\n",
        "\n",
        "history = model.fit(x1, y, epochs=25, class_weight=class_weights)"
      ],
      "execution_count": 112,
      "outputs": [
        {
          "output_type": "stream",
          "text": [
            "Epoch 1/25\n",
            "186/186 [==============================] - 1s 1ms/step - loss: 0.0630 - accuracy: 0.9958\n",
            "Epoch 2/25\n",
            "186/186 [==============================] - 0s 1ms/step - loss: 0.0484 - accuracy: 0.9990\n",
            "Epoch 3/25\n",
            "186/186 [==============================] - 0s 1ms/step - loss: 0.0508 - accuracy: 0.9990\n",
            "Epoch 4/25\n",
            "186/186 [==============================] - 0s 1ms/step - loss: 0.0425 - accuracy: 0.9992\n",
            "Epoch 5/25\n",
            "186/186 [==============================] - 0s 1ms/step - loss: 0.0292 - accuracy: 0.9994\n",
            "Epoch 6/25\n",
            "186/186 [==============================] - 0s 1ms/step - loss: 0.0443 - accuracy: 0.9991\n",
            "Epoch 7/25\n",
            "186/186 [==============================] - 0s 1ms/step - loss: 0.0419 - accuracy: 0.9991\n",
            "Epoch 8/25\n",
            "186/186 [==============================] - 0s 1ms/step - loss: 0.0640 - accuracy: 0.9987\n",
            "Epoch 9/25\n",
            "186/186 [==============================] - 0s 1ms/step - loss: 0.0636 - accuracy: 0.9985\n",
            "Epoch 10/25\n",
            "186/186 [==============================] - 0s 1ms/step - loss: 0.0372 - accuracy: 0.9993\n",
            "Epoch 11/25\n",
            "186/186 [==============================] - 0s 1ms/step - loss: 0.0380 - accuracy: 0.9992\n",
            "Epoch 12/25\n",
            "186/186 [==============================] - 0s 1ms/step - loss: 0.0496 - accuracy: 0.9990\n",
            "Epoch 13/25\n",
            "186/186 [==============================] - 0s 1ms/step - loss: 0.0599 - accuracy: 0.9987\n",
            "Epoch 14/25\n",
            "186/186 [==============================] - 0s 1ms/step - loss: 0.0325 - accuracy: 0.9993\n",
            "Epoch 15/25\n",
            "186/186 [==============================] - 0s 1ms/step - loss: 0.0437 - accuracy: 0.9992\n",
            "Epoch 16/25\n",
            "186/186 [==============================] - 0s 1ms/step - loss: 0.0524 - accuracy: 0.9988\n",
            "Epoch 17/25\n",
            "186/186 [==============================] - 0s 1ms/step - loss: 0.0606 - accuracy: 0.9986\n",
            "Epoch 18/25\n",
            "186/186 [==============================] - 0s 1ms/step - loss: 0.0606 - accuracy: 0.9985\n",
            "Epoch 19/25\n",
            "186/186 [==============================] - 0s 1ms/step - loss: 0.0343 - accuracy: 0.9993\n",
            "Epoch 20/25\n",
            "186/186 [==============================] - 0s 1ms/step - loss: 0.0277 - accuracy: 0.9995\n",
            "Epoch 21/25\n",
            "186/186 [==============================] - 0s 1ms/step - loss: 0.0695 - accuracy: 0.9981\n",
            "Epoch 22/25\n",
            "186/186 [==============================] - 0s 1ms/step - loss: 0.0547 - accuracy: 0.9987\n",
            "Epoch 23/25\n",
            "186/186 [==============================] - 0s 1ms/step - loss: 0.0739 - accuracy: 0.9985\n",
            "Epoch 24/25\n",
            "186/186 [==============================] - 0s 1ms/step - loss: 0.0240 - accuracy: 0.9995\n",
            "Epoch 25/25\n",
            "186/186 [==============================] - 0s 1ms/step - loss: 0.0650 - accuracy: 0.9982\n"
          ],
          "name": "stdout"
        }
      ]
    },
    {
      "cell_type": "code",
      "metadata": {
        "colab": {
          "base_uri": "https://localhost:8080/",
          "height": 295
        },
        "id": "aFklIJsLJoQE",
        "outputId": "d8790c1d-cece-49d6-a403-7b1681d33a6e"
      },
      "source": [
        "from matplotlib import pyplot\n",
        "\n",
        "pyplot.title('Learning Curves')\n",
        "pyplot.xlabel('Epoch')\n",
        "pyplot.ylabel('Cross Entropy')\n",
        "pyplot.plot(history.history['loss'], label='train')\n",
        "# pyplot.plot(history.history['val_loss'], label='val')\n",
        "pyplot.legend()\n",
        "pyplot.show()"
      ],
      "execution_count": 113,
      "outputs": [
        {
          "output_type": "display_data",
          "data": {
            "image/png": "[encoded data removed]",
            "text/plain": [
              "<Figure size 432x288 with 1 Axes>"
            ]
          },
          "metadata": {
            "tags": [],
            "needs_background": "light"
          }
        }
      ]
    },
    {
      "cell_type": "code",
      "metadata": {
        "colab": {
          "base_uri": "https://localhost:8080/"
        },
        "id": "YekREHicJ7QF",
        "outputId": "456a12c4-b7aa-495a-f734-9ca294a7b27b"
      },
      "source": [
        "pred = model.predict_classes(x_test)\n"
      ],
      "execution_count": 117,
      "outputs": [
        {
          "output_type": "stream",
          "text": [
            "/usr/local/lib/python3.7/dist-packages/tensorflow/python/keras/engine/sequential.py:450: UserWarning: `model.predict_classes()` is deprecated and will be removed after 2021-01-01. Please use instead:* `np.argmax(model.predict(x), axis=-1)`,   if your model does multi-class classification   (e.g. if it uses a `softmax` last-layer activation).* `(model.predict(x) > 0.5).astype(\"int32\")`,   if your model does binary classification   (e.g. if it uses a `sigmoid` last-layer activation).\n",
            "  warnings.warn('`model.predict_classes()` is deprecated and '\n"
          ],
          "name": "stderr"
        }
      ]
    },
    {
      "cell_type": "code",
      "metadata": {
        "colab": {
          "base_uri": "https://localhost:8080/"
        },
        "id": "EIIvmxy8NSSk",
        "outputId": "0627fe3c-e6dd-41e9-93bf-90ad8af1470b"
      },
      "source": [
        "from sklearn.metrics import confusion_matrix\n",
        "confusion_matrix(y_test, pred)"
      ],
      "execution_count": 118,
      "outputs": [
        {
          "output_type": "execute_result",
          "data": {
            "text/plain": [
              "array([[1421,    0],\n",
              "       [  63,    0]])"
            ]
          },
          "metadata": {
            "tags": []
          },
          "execution_count": 118
        }
      ]
    },
    {
      "cell_type": "code",
      "metadata": {
        "id": "DVd9LVyGNYN7"
      },
      "source": [
        "accuracy = sum([y_test[i]==pred[i] for i in range(len(pred))])/len(pred)"
      ],
      "execution_count": 135,
      "outputs": []
    },
    {
      "cell_type": "code",
      "metadata": {
        "colab": {
          "base_uri": "https://localhost:8080/"
        },
        "id": "cZ5pZcdNNzM2",
        "outputId": "7f742302-d9d1-4c67-b90e-01bddc62f133"
      },
      "source": [
        "accuracy"
      ],
      "execution_count": 121,
      "outputs": [
        {
          "output_type": "execute_result",
          "data": {
            "text/plain": [
              "array([0.95754717])"
            ]
          },
          "metadata": {
            "tags": []
          },
          "execution_count": 121
        }
      ]
    },
    {
      "cell_type": "markdown",
      "metadata": {
        "id": "lPjQJkXqOkyd"
      },
      "source": [
        "##Decision tree"
      ]
    },
    {
      "cell_type": "code",
      "metadata": {
        "id": "ikHDn1MxObr7"
      },
      "source": [
        "from sklearn import tree"
      ],
      "execution_count": 133,
      "outputs": []
    },
    {
      "cell_type": "code",
      "metadata": {
        "id": "_oVvCneYN2YS"
      },
      "source": [
        "clf = tree.DecisionTreeClassifier()\n",
        "clf = clf.fit(x1, y)"
      ],
      "execution_count": 141,
      "outputs": []
    },
    {
      "cell_type": "code",
      "metadata": {
        "colab": {
          "base_uri": "https://localhost:8080/"
        },
        "id": "H1mAEhQUOqYq",
        "outputId": "307cc0a9-1813-4817-89f7-ff1bb1dd1bc6"
      },
      "source": [
        "pred = model.predict_classes(x_test)\n",
        "from sklearn.metrics import confusion_matrix\n",
        "confusion_matrix(y_test, pred)"
      ],
      "execution_count": 142,
      "outputs": [
        {
          "output_type": "stream",
          "text": [
            "/usr/local/lib/python3.7/dist-packages/tensorflow/python/keras/engine/sequential.py:450: UserWarning: `model.predict_classes()` is deprecated and will be removed after 2021-01-01. Please use instead:* `np.argmax(model.predict(x), axis=-1)`,   if your model does multi-class classification   (e.g. if it uses a `softmax` last-layer activation).* `(model.predict(x) > 0.5).astype(\"int32\")`,   if your model does binary classification   (e.g. if it uses a `sigmoid` last-layer activation).\n",
            "  warnings.warn('`model.predict_classes()` is deprecated and '\n"
          ],
          "name": "stderr"
        },
        {
          "output_type": "execute_result",
          "data": {
            "text/plain": [
              "array([[1421,    0],\n",
              "       [  63,    0]])"
            ]
          },
          "metadata": {
            "tags": []
          },
          "execution_count": 142
        }
      ]
    },
    {
      "cell_type": "code",
      "metadata": {
        "id": "KF_H8UF3OxFB"
      },
      "source": [
        "accuracy = sum([y_test[i]==pred[i] for i in range(len(pred))])/len(pred)"
      ],
      "execution_count": 143,
      "outputs": []
    },
    {
      "cell_type": "code",
      "metadata": {
        "colab": {
          "base_uri": "https://localhost:8080/"
        },
        "id": "4qYbnAgMOxcN",
        "outputId": "1ce9c8b4-36f3-4e1c-a87d-e4e9f0698fb5"
      },
      "source": [
        "accuracy"
      ],
      "execution_count": 144,
      "outputs": [
        {
          "output_type": "execute_result",
          "data": {
            "text/plain": [
              "array([0.95754717])"
            ]
          },
          "metadata": {
            "tags": []
          },
          "execution_count": 144
        }
      ]
    },
    {
      "cell_type": "code",
      "metadata": {
        "colab": {
          "base_uri": "https://localhost:8080/",
          "height": 367
        },
        "id": "9aT0Xq9QOyW1",
        "outputId": "10dca62d-f6b2-47c0-adfa-0741b026669b"
      },
      "source": [
        "tree.plot_tree(clf) "
      ],
      "execution_count": 145,
      "outputs": [
        {
          "output_type": "execute_result",
          "data": {
            "text/plain": [
              "[Text(133.92000000000002, 190.26, 'X[6] <= 36.2\\ngini = 0.002\\nsamples = 5936\\nvalue = [5930, 6]'),\n",
              " Text(66.96000000000001, 135.9, 'gini = 0.0\\nsamples = 5929\\nvalue = [5929, 0]'),\n",
              " Text(200.88000000000002, 135.9, 'X[7] <= 38.545\\ngini = 0.245\\nsamples = 7\\nvalue = [1, 6]'),\n",
              " Text(133.92000000000002, 81.53999999999999, 'X[1] <= 27.29\\ngini = 0.5\\nsamples = 2\\nvalue = [1, 1]'),\n",
              " Text(66.96000000000001, 27.180000000000007, 'gini = 0.0\\nsamples = 1\\nvalue = [1, 0]'),\n",
              " Text(200.88000000000002, 27.180000000000007, 'gini = 0.0\\nsamples = 1\\nvalue = [0, 1]'),\n",
              " Text(267.84000000000003, 81.53999999999999, 'gini = 0.0\\nsamples = 5\\nvalue = [0, 5]')]"
            ]
          },
          "metadata": {
            "tags": []
          },
          "execution_count": 145
        },
        {
          "output_type": "display_data",
          "data": {
            "image/png": "[encoded data removed]",
            "text/plain": [
              "<Figure size 432x288 with 1 Axes>"
            ]
          },
          "metadata": {
            "tags": [],
            "needs_background": "light"
          }
        }
      ]
    },
    {
      "cell_type": "code",
      "metadata": {
        "id": "-umnUHYuO2hR"
      },
      "source": [
        ""
      ],
      "execution_count": null,
      "outputs": []
    }
  ]
}